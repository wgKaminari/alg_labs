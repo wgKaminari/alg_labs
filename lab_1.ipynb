{
  "nbformat": 4,
  "nbformat_minor": 0,
  "metadata": {
    "colab": {
      "provenance": []
    },
    "kernelspec": {
      "name": "python3",
      "display_name": "Python 3"
    },
    "language_info": {
      "name": "python"
    }
  },
  "cells": [
    {
      "cell_type": "markdown",
      "source": [
        "# Лабораторна робота №1\n",
        "Сноз В'ячеслав"
      ],
      "metadata": {
        "id": "rPFKRuWLRILt"
      }
    },
    {
      "cell_type": "markdown",
      "source": [
        "\n",
        "\n",
        "# SAMPLE INPUT\n"
      ],
      "metadata": {
        "id": "FqrXMYX25W0I"
      }
    },
    {
      "cell_type": "code",
      "source": [
        "#вводимо любий вираз і балдієм\n",
        "Vyraz = input(\"Введіть арифметичний вираз: \")"
      ],
      "metadata": {
        "colab": {
          "base_uri": "https://localhost:8080/"
        },
        "id": "Z9AYhEUN5CfD",
        "outputId": "381da124-d16a-4514-ef82-be34de4ff9d1"
      },
      "execution_count": 1,
      "outputs": [
        {
          "name": "stdout",
          "output_type": "stream",
          "text": [
            "Введіть арифметичний вираз: (20+31)*(3*12-4/3)\n"
          ]
        }
      ]
    },
    {
      "cell_type": "code",
      "source": [
        "import re\n",
        "from collections import deque\n",
        "\n",
        "def tokenize(Vyraz):\n",
        "    # Використовуємо регулярний вираз для відділення чисел, операторів і дужок\n",
        "    return re.findall(r'\\d+|[+\\-*/:^()]', Vyraz)"
      ],
      "metadata": {
        "id": "WYV8XTeQ2DNm"
      },
      "execution_count": 2,
      "outputs": []
    },
    {
      "cell_type": "code",
      "source": [
        "def shunting_yard_alg(tokens):\n",
        "    priority = {'+': 1, '-': 1, '*': 2, '/': 2, '^': 3}  # Пріоритети операторів\n",
        "    stack = []  # Стек для операторів\n",
        "    queue = deque()  # Вихідна черга для постфіксної нотації\n",
        "\n",
        "    for token in tokens:\n",
        "        if token.isdigit():  # Якщо токен - число, додаємо його до виходу\n",
        "            queue.append(token)\n",
        "        elif token in priority:  # Якщо токен - оператор\n",
        "            while (stack and stack[-1] != '(' and\n",
        "                   priority.get(stack[-1], 0) >= priority[token]):\n",
        "                queue.append(stack.pop())\n",
        "            stack.append(token)\n",
        "        elif token == '(':  # Відкриваюча дужка завжди додається до стеку\n",
        "            stack.append(token)\n",
        "        elif token == ')':  # Закриваюча дужка\n",
        "            while stack and stack[-1] != '(':\n",
        "                queue.append(stack.pop())\n",
        "            stack.pop()  # Видаляємо відкриваючу дужку з стеку\n",
        "\n",
        "    # Додаємо залишившіся оператори зі стеку до виходу\n",
        "    while stack:\n",
        "        queue.append(stack.pop())\n",
        "\n",
        "    return list(queue)  # Повертаємо список для зручності\n",
        " #stack - зайшов перший зверхуй так і вийшов перший зверху\n",
        " #queue - зайшов ззаду, вийшов спереду\n",
        " #append -додає з кінця в чергу (він же push)\n",
        " #pop - якшо 'pop()', то викидається останній елемент"
      ],
      "metadata": {
        "id": "Q-HnHrd62DIy"
      },
      "execution_count": 3,
      "outputs": []
    },
    {
      "cell_type": "markdown",
      "source": [
        "#SAMPLE OUTPUT"
      ],
      "metadata": {
        "id": "MxxumgHa5tvt"
      }
    },
    {
      "cell_type": "code",
      "source": [
        "tokens = tokenize(Vyraz)\n",
        "print(\"Tokens:\", tokens)\n",
        "\n",
        "postfix = shunting_yard_alg(tokens)\n",
        "print(\"Postfix notation:\", postfix)"
      ],
      "metadata": {
        "colab": {
          "base_uri": "https://localhost:8080/"
        },
        "id": "CHHVxMnG2DLT",
        "outputId": "b0b184db-5301-45db-e6c1-ef78df588f62"
      },
      "execution_count": 4,
      "outputs": [
        {
          "output_type": "stream",
          "name": "stdout",
          "text": [
            "Tokens: ['(', '20', '+', '31', ')', '*', '(', '3', '*', '12', '-', '4', '/', '3', ')']\n",
            "Postfix notation: ['20', '31', '+', '3', '12', '*', '4', '3', '/', '-', '*']\n"
          ]
        }
      ]
    },
    {
      "cell_type": "code",
      "source": [],
      "metadata": {
        "id": "mUrr7BpPNqyu"
      },
      "execution_count": null,
      "outputs": []
    }
  ]
}